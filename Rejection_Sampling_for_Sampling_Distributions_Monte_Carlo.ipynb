{
  "nbformat": 4,
  "nbformat_minor": 0,
  "metadata": {
    "colab": {
      "name": "Rejection Sampling for Sampling Distributions Monte Carlo.ipynb",
      "provenance": [],
      "authorship_tag": "ABX9TyMBuJs4z2aTnMZI53DYb4Fx",
      "include_colab_link": true
    },
    "kernelspec": {
      "name": "python3",
      "display_name": "Python 3"
    },
    "language_info": {
      "name": "python"
    }
  },
  "cells": [
    {
      "cell_type": "markdown",
      "metadata": {
        "id": "view-in-github",
        "colab_type": "text"
      },
      "source": [
        "<a href=\"https://colab.research.google.com/github/panimesh14/Bayesian-Learning-and-Simulation/blob/main/Rejection_Sampling_for_Sampling_Distributions_Monte_Carlo.ipynb\" target=\"_parent\"><img src=\"https://colab.research.google.com/assets/colab-badge.svg\" alt=\"Open In Colab\"/></a>"
      ]
    },
    {
      "cell_type": "markdown",
      "source": [
        "#Rejection Sampling for Sampling Functions: Monte Carlo Simulations"
      ],
      "metadata": {
        "id": "5cxc-N3EQZED"
      }
    },
    {
      "cell_type": "code",
      "execution_count": 3,
      "metadata": {
        "id": "0ztvLPtwRPUj"
      },
      "outputs": [],
      "source": [
        "import numpy as np, pandas as pd, matplotlib.pyplot as plt, seaborn as sns\n",
        "%matplotlib inline\n",
        "import scipy as sp"
      ]
    },
    {
      "cell_type": "code",
      "source": [
        "def f1(x):\n",
        "    y=x**(2)*np.cos(x)+x**(3)*np.exp(-x);\n",
        "    return y\n",
        "x=np.linspace(0,10,1000);\n",
        "plt.plot(x,f(x))\n",
        "#plt.ylim([0,3.3])"
      ],
      "metadata": {
        "colab": {
          "base_uri": "https://localhost:8080/",
          "height": 282
        },
        "id": "oDAEeotUjkJA",
        "outputId": "26b26b4f-6372-4bd1-834a-ec6b2f69b0db"
      },
      "execution_count": 41,
      "outputs": [
        {
          "output_type": "execute_result",
          "data": {
            "text/plain": [
              "[<matplotlib.lines.Line2D at 0x7fb655167190>]"
            ]
          },
          "metadata": {},
          "execution_count": 41
        },
        {
          "output_type": "display_data",
          "data": {
            "text/plain": [
              "<Figure size 432x288 with 1 Axes>"
            ],
            "image/png": "[encoded data removed]"
          },
          "metadata": {
            "needs_background": "light"
          }
        }
      ]
    },
    {
      "cell_type": "code",
      "source": [
        "def g(x):\n",
        "    y=sp.stats.norm.pdf(x,loc=0,scale=1)\n",
        "    return y\n",
        "x=np.linspace(0,1,100)\n",
        "y=g(x)\n",
        "plt.plot(x,y)"
      ],
      "metadata": {
        "colab": {
          "base_uri": "https://localhost:8080/",
          "height": 282
        },
        "id": "3c71LE7SkNWO",
        "outputId": "69d41164-59e0-46a5-de74-6a878c6b1f16"
      },
      "execution_count": 42,
      "outputs": [
        {
          "output_type": "execute_result",
          "data": {
            "text/plain": [
              "[<matplotlib.lines.Line2D at 0x7fb655149f10>]"
            ]
          },
          "metadata": {},
          "execution_count": 42
        },
        {
          "output_type": "display_data",
          "data": {
            "text/plain": [
              "<Figure size 432x288 with 1 Axes>"
            ],
            "image/png": "[encoded data removed]"
          },
          "metadata": {
            "needs_background": "light"
          }
        }
      ]
    },
    {
      "cell_type": "code",
      "source": [
        "def rejection(N,c=80):\n",
        "    acc=[];\n",
        "    count=0;   \n",
        "    i=0;\n",
        "    while((len(acc)<N)):\n",
        "        x=np.random.uniform(0,10);\n",
        "        y=np.random.uniform(0,1);\n",
        "        #u=sp.stats.uniform.pdf(y);\n",
        "        r=f1(x)/(c*g(x));\n",
        "        if(y<=abs(r)):\n",
        "           acc.append(x);\n",
        "        else:\n",
        "           count=count+1;\n",
        "        i=i+1;\n",
        "    return acc, count"
      ],
      "metadata": {
        "id": "3T_VJqndlAdT"
      },
      "execution_count": 77,
      "outputs": []
    },
    {
      "cell_type": "code",
      "source": [
        "y,reject_count=rejection(10000,c=80)\n",
        "len(y)"
      ],
      "metadata": {
        "colab": {
          "base_uri": "https://localhost:8080/"
        },
        "id": "d8_uaFsCzNBK",
        "outputId": "4871a98a-a99c-4dc1-b568-c0159abab935"
      },
      "execution_count": 47,
      "outputs": [
        {
          "output_type": "execute_result",
          "data": {
            "text/plain": [
              "10000"
            ]
          },
          "metadata": {},
          "execution_count": 47
        }
      ]
    },
    {
      "cell_type": "code",
      "source": [
        "#Plotting distribution pdf and function\n",
        "#PDF\n",
        "plt.subplot(2,1,1)\n",
        "plt.hist(y,density=True)\n",
        "plt.xlabel('X/Random Variable')\n",
        "plt.ylabel('pdf')\n",
        "#Function\n",
        "plt.subplot(2,1,2)\n",
        "x=np.linspace(0,10,1000);\n",
        "plt.plot(x,f(x))\n",
        "plt.xlabel('x/Random Variable')\n",
        "plt.ylabel('f(x)')"
      ],
      "metadata": {
        "colab": {
          "base_uri": "https://localhost:8080/",
          "height": 296
        },
        "id": "AfwQ3oP-9ufv",
        "outputId": "7bcaabbd-5f07-4354-c10c-75893a9d1081"
      },
      "execution_count": 49,
      "outputs": [
        {
          "output_type": "execute_result",
          "data": {
            "text/plain": [
              "Text(0, 0.5, 'f(x)')"
            ]
          },
          "metadata": {},
          "execution_count": 49
        },
        {
          "output_type": "display_data",
          "data": {
            "text/plain": [
              "<Figure size 432x288 with 2 Axes>"
            ],
            "image/png": "[encoded data removed]"
          },
          "metadata": {
            "needs_background": "light"
          }
        }
      ]
    },
    {
      "cell_type": "code",
      "source": [
        "print(reject_count)\n",
        "#Samples rejected are relatively high around >25% of the samples accepted."
      ],
      "metadata": {
        "colab": {
          "base_uri": "https://localhost:8080/"
        },
        "id": "-qyackbMPfOk",
        "outputId": "d7467e17-af21-429c-9169-9b6017d0d473"
      },
      "execution_count": 83,
      "outputs": [
        {
          "output_type": "stream",
          "name": "stdout",
          "text": [
            "2528\n"
          ]
        }
      ]
    },
    {
      "cell_type": "markdown",
      "source": [
        "2nd function Sampling with Uniform Distribution"
      ],
      "metadata": {
        "id": "qFKCtINsJ92q"
      }
    },
    {
      "cell_type": "code",
      "source": [
        "def f(x):\n",
        "    y=x*np.sin(x)+x**(3)*np.exp(-x);\n",
        "    return y\n",
        "x=np.linspace(0,1,1000);\n",
        "plt.plot(x,f(x))\n",
        "#plt.ylim([0,3.3])"
      ],
      "metadata": {
        "colab": {
          "base_uri": "https://localhost:8080/",
          "height": 282
        },
        "id": "Lqu_la1QI6Ga",
        "outputId": "7aea0126-c9b3-47fc-f996-76fdacda3813"
      },
      "execution_count": 57,
      "outputs": [
        {
          "output_type": "execute_result",
          "data": {
            "text/plain": [
              "[<matplotlib.lines.Line2D at 0x7fb654a57810>]"
            ]
          },
          "metadata": {},
          "execution_count": 57
        },
        {
          "output_type": "display_data",
          "data": {
            "text/plain": [
              "<Figure size 432x288 with 1 Axes>"
            ],
            "image/png": "[encoded data removed]"
          },
          "metadata": {
            "needs_background": "light"
          }
        }
      ]
    },
    {
      "cell_type": "code",
      "source": [
        "def g(x,low=0,high=1):\n",
        "    y=sp.stats.uniform.pdf(x,low,high)\n",
        "    return y\n",
        "x=np.linspace(0,1,1000)\n",
        "plt.plot(x,g1(x))"
      ],
      "metadata": {
        "colab": {
          "base_uri": "https://localhost:8080/",
          "height": 282
        },
        "id": "-I8cawO1H4Kf",
        "outputId": "609d8f07-94ef-4d67-9c70-56d60dad49ac"
      },
      "execution_count": 58,
      "outputs": [
        {
          "output_type": "execute_result",
          "data": {
            "text/plain": [
              "[<matplotlib.lines.Line2D at 0x7fb654a4a710>]"
            ]
          },
          "metadata": {},
          "execution_count": 58
        },
        {
          "output_type": "display_data",
          "data": {
            "text/plain": [
              "<Figure size 432x288 with 1 Axes>"
            ],
            "image/png": "[encoded data removed]"
          },
          "metadata": {
            "needs_background": "light"
          }
        }
      ]
    },
    {
      "cell_type": "code",
      "source": [
        "Y2, count2=rejection(500,c=1.5)"
      ],
      "metadata": {
        "colab": {
          "base_uri": "https://localhost:8080/"
        },
        "id": "n6V5B9APMGHM",
        "outputId": "ae750173-e52a-456c-8451-0a741137d955"
      },
      "execution_count": 78,
      "outputs": [
        {
          "output_type": "stream",
          "name": "stderr",
          "text": [
            "/usr/local/lib/python3.7/dist-packages/ipykernel_launcher.py:9: RuntimeWarning: divide by zero encountered in double_scalars\n",
            "  if __name__ == '__main__':\n"
          ]
        }
      ]
    },
    {
      "cell_type": "code",
      "source": [
        "#Plotting distribution pdf and function\n",
        "#PDF\n",
        "plt.subplot(2,1,1)\n",
        "plt.hist(Y2,density=True,bins=50)\n",
        "plt.xlabel('X/Random Variable')\n",
        "plt.ylabel('pdf')\n",
        "#Function\n",
        "plt.subplot(2,1,2)\n",
        "x=np.linspace(0,10,1000);\n",
        "plt.plot(x,f(x))\n",
        "plt.xlabel('x/Random Variable')\n",
        "plt.ylabel('f(x)')"
      ],
      "metadata": {
        "colab": {
          "base_uri": "https://localhost:8080/",
          "height": 296
        },
        "id": "8QaRmc9EL5iU",
        "outputId": "f26f9436-3d9a-4be2-f4ee-1357e41b0c4a"
      },
      "execution_count": 79,
      "outputs": [
        {
          "output_type": "execute_result",
          "data": {
            "text/plain": [
              "Text(0, 0.5, 'f(x)')"
            ]
          },
          "metadata": {},
          "execution_count": 79
        },
        {
          "output_type": "display_data",
          "data": {
            "text/plain": [
              "<Figure size 432x288 with 2 Axes>"
            ],
            "image/png": "[encoded data removed]"
          },
          "metadata": {
            "needs_background": "light"
          }
        }
      ]
    },
    {
      "cell_type": "code",
      "source": [
        "print(count2)\n",
        "#rejected samples are approximately 10% of total samples accepted \n",
        "#Rejections are seemingly less implying choice of c and distribution is somewhat fine."
      ],
      "metadata": {
        "colab": {
          "base_uri": "https://localhost:8080/"
        },
        "id": "LEi0qUs4OxRl",
        "outputId": "6780c9c7-fc7a-49a8-e898-b1f6c545603d"
      },
      "execution_count": 82,
      "outputs": [
        {
          "output_type": "stream",
          "name": "stdout",
          "text": [
            "46\n"
          ]
        }
      ]
    },
    {
      "cell_type": "markdown",
      "source": [
        "#####Rejection Sampling  seems to generate sampling distributions more or less matching to the functions.\n",
        "#####Accept-Reject Sampling however appears prone to scaling constant and to the function's domain and range.\n",
        "#####Number/Count or Frequency of Rejections depends a lot on our choice of c or the normalizing constant. A poor choice of c and a very fluctuating function can take a long time and correclspondingly very high number of rejections to get the required samples.\n",
        "####Note:Functions used here are randomly built."
      ],
      "metadata": {
        "id": "VTVbUWUANTav"
      }
    }
  ]
}
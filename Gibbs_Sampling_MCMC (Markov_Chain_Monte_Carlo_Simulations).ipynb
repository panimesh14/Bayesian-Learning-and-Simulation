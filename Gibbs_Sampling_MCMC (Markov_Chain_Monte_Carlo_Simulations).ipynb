{
  "cells": [
    {
      "cell_type": "markdown",
      "metadata": {
        "id": "view-in-github",
        "colab_type": "text"
      },
      "source": [
        "<a href=\"https://colab.research.google.com/github/panimesh14/Bayesian-Learning-and-Simulation/blob/main/Gibbs_Sampling_MCMC%20(Markov_Chain_Monte_Carlo_Simulations).ipynb\" target=\"_parent\"><img src=\"https://colab.research.google.com/assets/colab-badge.svg\" alt=\"Open In Colab\"/></a>"
      ]
    },
    {
      "cell_type": "markdown",
      "source": [
        "### Gibbs Sampling MCMC Technique for Multivariate distributions using Full Conditionals"
      ],
      "metadata": {
        "id": "67uFQpi1kNGt"
      }
    },
    {
      "cell_type": "code",
      "execution_count": 134,
      "metadata": {
        "id": "K8On7lTNqR92"
      },
      "outputs": [],
      "source": [
        "import numpy as np, pandas as pd\n",
        "import scipy as sp"
      ]
    },
    {
      "cell_type": "code",
      "execution_count": 121,
      "metadata": {
        "id": "0spUiP52LrdK"
      },
      "outputs": [],
      "source": [
        "mu=[-2,1];\n",
        "sigma=[[1,0.6],[0.6,1]];\n",
        "cov=np.power(sigma,2)"
      ]
    },
    {
      "cell_type": "markdown",
      "source": [
        "###Gibbs Sampling using Univariate Distributions"
      ],
      "metadata": {
        "id": "32Mb78xFlHHM"
      }
    },
    {
      "cell_type": "code",
      "execution_count": 135,
      "metadata": {
        "id": "oKXrvuu_qQ8e"
      },
      "outputs": [],
      "source": [
        "def gibbsnormal(N,sigma,burn_in=0.10):\n",
        "    samples={'x':[1],'y':[1]};#initial guess/start model\n",
        "    i=0;\n",
        "    while(i<N):\n",
        "      new_x=np.random.normal(mu[1]+samples['y'][-1]*sigma[0][1],1-sigma[0][1]**(2));\n",
        "      new_y=np.random.normal(mu[0]+samples['x'][-1]*sigma[1][0],1-sigma[1][0]**(2));\n",
        "      samples['x'].append(new_x);\n",
        "      samples['y'].append(new_y);\n",
        "      i=i+1;\n",
        "    return samples"
      ]
    },
    {
      "cell_type": "code",
      "execution_count": 136,
      "metadata": {
        "id": "-7cCUxzA0Ias"
      },
      "outputs": [],
      "source": [
        "sample=gibbsnormal(10000,cov)"
      ]
    },
    {
      "cell_type": "code",
      "execution_count": 141,
      "metadata": {
        "colab": {
          "base_uri": "https://localhost:8080/",
          "height": 295
        },
        "id": "QWahaG720t9g",
        "outputId": "382447a1-3cd3-4ccd-e597-b77efe88afb0"
      },
      "outputs": [
        {
          "output_type": "display_data",
          "data": {
            "text/plain": [
              "<Figure size 432x288 with 1 Axes>"
            ],
            "image/png": "[encoded data removed]"
          },
          "metadata": {
            "needs_background": "light"
          }
        }
      ],
      "source": [
        "\n",
        "import matplotlib.pyplot as plt\n",
        "plt.hist(sample['x'],density=True,bins=100)\n",
        "plt.title('X')\n",
        "plt.xlabel('X')\n",
        "plt.grid()"
      ]
    },
    {
      "cell_type": "code",
      "execution_count": 142,
      "metadata": {
        "colab": {
          "base_uri": "https://localhost:8080/",
          "height": 295
        },
        "id": "IWCkOO_o1J9u",
        "outputId": "24610cb1-d784-4f59-d126-a3a217cbcd3b"
      },
      "outputs": [
        {
          "output_type": "display_data",
          "data": {
            "text/plain": [
              "<Figure size 432x288 with 1 Axes>"
            ],
            "image/png": "[encoded data removed]"
          },
          "metadata": {
            "needs_background": "light"
          }
        }
      ],
      "source": [
        "plt.hist(sample['y'],density=True,bins=100)\n",
        "plt.title('y')\n",
        "plt.xlabel('y')\n",
        "plt.grid()"
      ]
    },
    {
      "cell_type": "markdown",
      "source": [
        "##### Univariate Gibbs Sampling for sampling a 2d distribution is able to approximately match the means for x and y diatributions as 1 and -2 respectively."
      ],
      "metadata": {
        "id": "9mV4agtBlWyE"
      }
    },
    {
      "cell_type": "markdown",
      "source": [
        "#Multivariate Gaussian Sampling using Full Conditionals"
      ],
      "metadata": {
        "id": "frPSbzCKgJGP"
      }
    },
    {
      "cell_type": "code",
      "execution_count": 126,
      "metadata": {
        "id": "Ve1oQr1fCxrv"
      },
      "outputs": [],
      "source": [
        "import scipy.stats as sp"
      ]
    },
    {
      "cell_type": "code",
      "execution_count": 143,
      "metadata": {
        "id": "ll8kHhebCx5f"
      },
      "outputs": [],
      "source": [
        "class multivariate_prob:\n",
        "      def __init__(self,mu,cov):\n",
        "      # mu,cov=arrays\n",
        "          self.mu=np.array(mu);\n",
        "          self.cov=np.array(cov);\n",
        "\n",
        "      def conditional_sampling(self,x,index):\n",
        "          #index=list structure;x=array\n",
        "          index=index;\n",
        "          index_minus=[i for i in list(range(len(self.mu))) if i not in [index]]\n",
        "          x=np.array(x);\n",
        "          x0=x[index_minus];\n",
        "          #Mean vectors\n",
        "          mu1=self.mu[index];\n",
        "          mu_minus=self.mu[index_minus];\n",
        "          index=[index]\n",
        "          #Full conditional Covariance sub-matrices \n",
        "          cov11=self.cov[np.ix_(index,index)];\n",
        "          cov12=self.cov[np.ix_(index,index_minus)];\n",
        "          cov21=self.cov[np.ix_(index_minus,index)];\n",
        "          cov22=self.cov[np.ix_(index_minus,index_minus)];\n",
        "          \n",
        "          #Full conditional distribution parameters-mean,covariance for each index\n",
        "          mu_cond=mu1+np.matmul(np.matmul(cov12,np.linalg.inv(cov22)),(x0-mu_minus));\n",
        "          cov_cond=cov11+np.matmul(np.matmul(cov12,np.linalg.inv(cov22)),cov21);\n",
        "          #x1=np.random.multivariate_normal(mu_cond,cov_cond);\n",
        "          x1=sp.multivariate_normal(mu_cond,cov_cond).rvs()\n",
        "          #print(x1)\n",
        "          return x1\n",
        "\n",
        "      def mcmc_gibbs_sampler(self,x_guess,nit=1000): \n",
        "          x_samples=[];\n",
        "          x_init=x_guess;\n",
        "          burn_in=int(0.10*nit);\n",
        "          for i in range(nit):\n",
        "              for j in range(len(x_init)):\n",
        "                  #print(j)\n",
        "                  x_init[j]=self.conditional_sampling(x_init,j);#Full Conditional\n",
        "              x_samples.append(x_init.copy());\n",
        "              #print(np.vstack(x_samples))\n",
        "              #print(x_samples)\n",
        "          return np.vstack(x_samples[burn_in:])"
      ]
    },
    {
      "cell_type": "code",
      "execution_count": 128,
      "metadata": {
        "id": "fm2deIUbaKHW"
      },
      "outputs": [],
      "source": [
        "prob_function=multivariate_prob(mu,cov)"
      ]
    },
    {
      "cell_type": "code",
      "execution_count": 129,
      "metadata": {
        "id": "jjnXO63maVs4"
      },
      "outputs": [],
      "source": [
        "x_samples=prob_function.mcmc_gibbs_sampler([0,0],100000)"
      ]
    },
    {
      "cell_type": "code",
      "execution_count": 130,
      "metadata": {
        "colab": {
          "base_uri": "https://localhost:8080/"
        },
        "id": "_3J5Q4vzdRO0",
        "outputId": "0eb7e568-5b1e-4fb7-e3f2-907d4514354c"
      },
      "outputs": [
        {
          "output_type": "execute_result",
          "data": {
            "text/plain": [
              "array([[-1.89855677,  1.21095006],\n",
              "       [-1.7712717 ,  2.57906543],\n",
              "       [-2.25994225,  0.63364078],\n",
              "       ...,\n",
              "       [-2.30988615,  1.49957928],\n",
              "       [-1.75140432,  1.41376365],\n",
              "       [ 0.07831195, -0.04208992]])"
            ]
          },
          "metadata": {},
          "execution_count": 130
        }
      ],
      "source": [
        "x_samples"
      ]
    },
    {
      "cell_type": "code",
      "execution_count": 131,
      "metadata": {
        "colab": {
          "base_uri": "https://localhost:8080/",
          "height": 313
        },
        "id": "dTN0BDq-d2jw",
        "outputId": "2ff8e14c-59a0-4fa0-a5e8-998203cdd9ec"
      },
      "outputs": [
        {
          "output_type": "stream",
          "name": "stdout",
          "text": [
            "Correlation Coefficient= 0.3571396613488752\n"
          ]
        },
        {
          "output_type": "display_data",
          "data": {
            "text/plain": [
              "<Figure size 432x288 with 1 Axes>"
            ],
            "image/png": "[encoded data removed]"
          },
          "metadata": {
            "needs_background": "light"
          }
        }
      ],
      "source": [
        "plt.scatter(x_samples[:,0],x_samples[:,1],s=2)\n",
        "plt.xlabel('theta_1')\n",
        "plt.ylabel('theta_2')\n",
        "plt.title('Multivariate Gaussian Samples (Gibbs Sampling)')\n",
        "plt.grid()\n",
        "#\n",
        "corr_coeff=sp.pearsonr(x_samples[:,0],x_samples[:,1])\n",
        "print('Correlation Coefficient=',corr_coeff[0])"
      ]
    },
    {
      "cell_type": "code",
      "execution_count": 132,
      "metadata": {
        "colab": {
          "base_uri": "https://localhost:8080/",
          "height": 349
        },
        "id": "CeDl4I1CeP8L",
        "outputId": "cc18be4f-17df-4e11-ea2d-99afffa43f8d"
      },
      "outputs": [
        {
          "output_type": "stream",
          "name": "stdout",
          "text": [
            "theta1 distribution Mean -2.00821471869729\n",
            "theta1 distribution Standard Deviation 1.1396873881143923\n",
            "Standard deviation Error Estimate: 0.1396873881143923\n",
            "Mean Error Estimate: 0.004107359348644923\n"
          ]
        },
        {
          "output_type": "display_data",
          "data": {
            "text/plain": [
              "<Figure size 432x288 with 1 Axes>"
            ],
            "image/png": "[encoded data removed]"
          },
          "metadata": {
            "needs_background": "light"
          }
        }
      ],
      "source": [
        "plt.hist(x_samples[:,0],density=True,bins=100)\n",
        "plt.xlabel('theta_1')\n",
        "plt.ylabel('Probability')\n",
        "plt.grid()\n",
        "\n",
        "# Distribution Parameters\n",
        "theta_1_mean=np.mean(x_samples[:,0])\n",
        "theta_1_std=np.std(x_samples[:,0])\n",
        "print('theta1 distribution Mean',theta_1_mean)\n",
        "print('theta1 distribution Standard Deviation',theta_1_std)\n",
        "#distribution mean and standard deviation estimates from samples are quite close to actual values\n",
        "\n",
        "#Errors in estimates from actuals\n",
        "std_err=(theta_1_std-sigma[0][0])/sigma[0][0];\n",
        "print('Standard deviation Error Estimate:',std_err);\n",
        "mu_err=(theta_1_mean-mu[0])/mu[0];\n",
        "print('Mean Error Estimate:',mu_err);#not absolute error to get a sense of direction of error"
      ]
    },
    {
      "cell_type": "code",
      "source": [
        "plt.hist(x_samples[:,1],density=True,bins=100)\n",
        "plt.xlabel('theta_2')\n",
        "plt.ylabel('Probability')\n",
        "plt.grid()\n",
        "\n",
        "#Distribution Parameters\n",
        "theta_2_mean=np.mean(x_samples[:,1])\n",
        "theta_2_std=np.std(x_samples[:,1])\n",
        "print('theta2 distribution Mean',theta_2_mean)\n",
        "print('theta2 distribution Standard Deviation',theta_2_std)\n",
        "#distribution mean and standard deviation estimates from samples are quite close to actual values\n",
        "\n",
        "#Error estimates\n",
        "std_err=(theta_2_std-sigma[1][1])/sigma[1][1];\n",
        "print('Standard deviation Error Estimate:',std_err);\n",
        "mu_err=(theta_2_mean-mu[1])/mu[1];\n",
        "print('Mean Error Estimate:',mu_err);#Not absolute error"
      ],
      "metadata": {
        "colab": {
          "base_uri": "https://localhost:8080/",
          "height": 349
        },
        "id": "IpKLvDemb2GS",
        "outputId": "447fea23-bdc5-4e15-8673-705bba86c559"
      },
      "execution_count": 133,
      "outputs": [
        {
          "output_type": "stream",
          "name": "stdout",
          "text": [
            "theta2 distribution Mean 0.9950005716032958\n",
            "theta2 distribution Standard Deviation 1.1351770317422998\n",
            "Standard deviation Error Estimate: 0.13517703174229978\n",
            "Mean Error Estimate: -0.0049994283967041975\n"
          ]
        },
        {
          "output_type": "display_data",
          "data": {
            "text/plain": [
              "<Figure size 432x288 with 1 Axes>"
            ],
            "image/png": "[encoded data removed]"
          },
          "metadata": {
            "needs_background": "light"
          }
        }
      ]
    },
    {
      "cell_type": "markdown",
      "source": [
        "##### Gibbs sampling seems effective at sampling distributions with given means and covariance matrices given it effectively samples with respect to given means.\n",
        "##### Error estimates appear relatively convincing of the MCMC Gibbs sampling technique's efficiency.\n",
        "##### Multivariate sampling using full conditionals seems effective for sampling distributions. Here, only full conditional over means has been used."
      ],
      "metadata": {
        "id": "eaPfRH7OjFfx"
      }
    }
  ],
  "metadata": {
    "colab": {
      "provenance": [],
      "authorship_tag": "ABX9TyMwrMsQaIv/eHeAVE2d4/6p",
      "include_colab_link": true
    },
    "kernelspec": {
      "display_name": "Python 3",
      "name": "python3"
    },
    "language_info": {
      "name": "python"
    }
  },
  "nbformat": 4,
  "nbformat_minor": 0
}
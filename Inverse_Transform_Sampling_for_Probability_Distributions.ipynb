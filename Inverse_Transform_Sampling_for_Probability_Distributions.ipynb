{
  "nbformat": 4,
  "nbformat_minor": 0,
  "metadata": {
    "colab": {
      "name": "Inverse Transform Sampling.ipynb",
      "provenance": [],
      "authorship_tag": "ABX9TyPJ2iHcTzz6ZDYL0U+who5K",
      "include_colab_link": true
    },
    "kernelspec": {
      "name": "python3",
      "display_name": "Python 3"
    },
    "language_info": {
      "name": "python"
    }
  },
  "cells": [
    {
      "cell_type": "markdown",
      "metadata": {
        "id": "view-in-github",
        "colab_type": "text"
      },
      "source": [
        "<a href=\"https://colab.research.google.com/github/panimesh14/Bayesian-Learning-and-Simulation/blob/main/Inverse_Transform_Sampling_for_Probability_Distributions.ipynb\" target=\"_parent\"><img src=\"https://colab.research.google.com/assets/colab-badge.svg\" alt=\"Open In Colab\"/></a>"
      ]
    },
    {
      "cell_type": "markdown",
      "source": [
        "#Inverse Transform Sampling Technique for Probability Distributions"
      ],
      "metadata": {
        "id": "2_x4E0L1mwOF"
      }
    },
    {
      "cell_type": "code",
      "execution_count": 8,
      "metadata": {
        "id": "6SxI8fq-Sy2M"
      },
      "outputs": [],
      "source": [
        "import numpy as np, pandas as pd\n",
        "import matplotlib.pyplot as plt\n",
        "import scipy as sp"
      ]
    },
    {
      "cell_type": "code",
      "source": [
        "#CDF of exponential distribution \n",
        "def exp_invcdf(y,lambda_rate):#inverse function of cdf of exponential\n",
        "    #y=likelihood, lambda_rate=rate parameter for exponential distribution\n",
        "    x=-np.log(abs(1-y))/lambda_rate;#inverse of cdf\n",
        "    return x"
      ],
      "metadata": {
        "id": "m-1i2ityTBSa"
      },
      "execution_count": 39,
      "outputs": []
    },
    {
      "cell_type": "code",
      "source": [
        "def inv_transform(N,rate,low=0,high=1):\n",
        "    i=0;\n",
        "    samples_pdf=[];\n",
        "    while(i<=N):\n",
        "       x=np.random.uniform(low,high);#Uniform Distribution \n",
        "       y=exp_invcdf(x,rate);\n",
        "       samples_pdf.append(y)\n",
        "       i=i+1;\n",
        "    return samples_pdf"
      ],
      "metadata": {
        "id": "xu4dZWQPVcZq"
      },
      "execution_count": 19,
      "outputs": []
    },
    {
      "cell_type": "code",
      "source": [
        "pdf=inv_transform(1000,0.5)"
      ],
      "metadata": {
        "id": "XxXrg_HyW-ht"
      },
      "execution_count": 40,
      "outputs": []
    },
    {
      "cell_type": "code",
      "source": [
        "\n",
        "#Inverse Transform Distribution plot (Uniform to Exponential Map)\n",
        "plt.hist(pdf,density=True,bins=50)\n",
        "plt.xlabel('Random Variable')\n",
        "plt.ylabel('pdf')\n",
        "#Distribution matches exponential distribution"
      ],
      "metadata": {
        "colab": {
          "base_uri": "https://localhost:8080/",
          "height": 296
        },
        "id": "W2EU5Ks1Xt7l",
        "outputId": "03f01b98-3a93-44ca-f8b0-129c30affe55"
      },
      "execution_count": 47,
      "outputs": [
        {
          "output_type": "execute_result",
          "data": {
            "text/plain": [
              "Text(0, 0.5, 'pdf')"
            ]
          },
          "metadata": {},
          "execution_count": 47
        },
        {
          "output_type": "display_data",
          "data": {
            "text/plain": [
              "<Figure size 432x288 with 1 Axes>"
            ],
            "image/png": "[encoded data removed]"
          },
          "metadata": {
            "needs_background": "light"
          }
        }
      ]
    },
    {
      "cell_type": "code",
      "source": [
        "pdf2=inv_transform(1000,1)"
      ],
      "metadata": {
        "id": "EpgCdde1Zohb"
      },
      "execution_count": 56,
      "outputs": []
    },
    {
      "cell_type": "code",
      "source": [
        "#Inverse Transform Distribution for Rate parameter 1\n",
        "plt.hist(pdf2,density=True,bins=40)\n",
        "plt.xlabel('Random Variable')\n",
        "plt.ylabel('pdf')\n",
        "#Decline becomes more rapid and the range of values that distribution takes culminate earlier."
      ],
      "metadata": {
        "colab": {
          "base_uri": "https://localhost:8080/",
          "height": 296
        },
        "id": "w-EjFFsVl1up",
        "outputId": "93787026-38d8-4161-e274-ed650205b16b"
      },
      "execution_count": 73,
      "outputs": [
        {
          "output_type": "execute_result",
          "data": {
            "text/plain": [
              "Text(0, 0.5, 'pdf')"
            ]
          },
          "metadata": {},
          "execution_count": 73
        },
        {
          "output_type": "display_data",
          "data": {
            "text/plain": [
              "<Figure size 432x288 with 1 Axes>"
            ],
            "image/png": "[encoded data removed]"
          },
          "metadata": {
            "needs_background": "light"
          }
        }
      ]
    },
    {
      "cell_type": "code",
      "source": [
        "pdf3=inv_transform(1000,0.1,0,1)"
      ],
      "metadata": {
        "id": "xXzpSDmIn06m"
      },
      "execution_count": 81,
      "outputs": []
    },
    {
      "cell_type": "code",
      "source": [
        "\n",
        "#Inverse Transform Distribution for Rate parameter 10\n",
        "plt.hist(pdf3,density=True,bins=40)\n",
        "plt.xlabel('Random Variable')\n",
        "plt.ylabel('pdf')\n",
        "#Decline becomes more rapid and the distribution culminates earlier."
      ],
      "metadata": {
        "colab": {
          "base_uri": "https://localhost:8080/",
          "height": 296
        },
        "id": "ZDkkaEa-o486",
        "outputId": "1f69dbc2-d51b-4a17-fcf7-c17dcaf4633e"
      },
      "execution_count": 82,
      "outputs": [
        {
          "output_type": "execute_result",
          "data": {
            "text/plain": [
              "Text(0, 0.5, 'pdf')"
            ]
          },
          "metadata": {},
          "execution_count": 82
        },
        {
          "output_type": "display_data",
          "data": {
            "text/plain": [
              "<Figure size 432x288 with 1 Axes>"
            ],
            "image/png": "[encoded data removed]"
          },
          "metadata": {
            "needs_background": "light"
          }
        }
      ]
    }
  ]
}